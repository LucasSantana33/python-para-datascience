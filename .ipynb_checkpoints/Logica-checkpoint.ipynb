{
 "cells": [
  {
   "cell_type": "markdown",
   "id": "9331dc0d-0a64-450d-a9c1-e852873ff6dc",
   "metadata": {
    "jp-MarkdownHeadingCollapsed": true,
    "tags": []
   },
   "source": [
    "# Lógica de programação\n"
   ]
  },
  {
   "cell_type": "code",
   "execution_count": 1,
   "id": "20c4e4fa-5379-4527-9e14-0d18df56bdd5",
   "metadata": {},
   "outputs": [
    {
     "data": {
      "text/plain": [
       "2"
      ]
     },
     "execution_count": 1,
     "metadata": {},
     "output_type": "execute_result"
    }
   ],
   "source": [
    "1+1"
   ]
  },
  {
   "cell_type": "code",
   "execution_count": 2,
   "id": "c89c171f-025b-40a1-85c1-7aaa5e5c7bce",
   "metadata": {},
   "outputs": [
    {
     "data": {
      "text/plain": [
       "'Lucas'"
      ]
     },
     "execution_count": 2,
     "metadata": {},
     "output_type": "execute_result"
    }
   ],
   "source": [
    "'Lucas'"
   ]
  },
  {
   "cell_type": "code",
   "execution_count": 9,
   "id": "a7d9c0db-9f83-4012-bc1a-7ed9c943f982",
   "metadata": {},
   "outputs": [
    {
     "data": {
      "text/plain": [
       "'Luan'"
      ]
     },
     "execution_count": 9,
     "metadata": {},
     "output_type": "execute_result"
    }
   ],
   "source": [
    "nome= 'Luan'\n",
    "nome"
   ]
  },
  {
   "cell_type": "code",
   "execution_count": 5,
   "id": "f924f94f-ead1-4d57-bc6c-51da1c83f2c8",
   "metadata": {},
   "outputs": [
    {
     "data": {
      "text/plain": [
       "20"
      ]
     },
     "execution_count": 5,
     "metadata": {},
     "output_type": "execute_result"
    }
   ],
   "source": [
    "idade= 20\n",
    "idade"
   ]
  },
  {
   "cell_type": "code",
   "execution_count": 10,
   "id": "b884ff9a-9f23-4175-a1af-525ab517218e",
   "metadata": {},
   "outputs": [
    {
     "name": "stdout",
     "output_type": "stream",
     "text": [
      "O nome é Luan e sua idade é 20 anos\n"
     ]
    }
   ],
   "source": [
    "print(f'O nome é {nome} e sua idade é {idade} anos')"
   ]
  },
  {
   "cell_type": "markdown",
   "id": "bddb0e1b-9332-45cc-9298-bfa4e0ead7dd",
   "metadata": {
    "jp-MarkdownHeadingCollapsed": true,
    "tags": []
   },
   "source": [
    "# Criando a primeira função"
   ]
  },
  {
   "cell_type": "code",
   "execution_count": 14,
   "id": "fbbe5998-f041-44fb-8c82-c520f165fa04",
   "metadata": {},
   "outputs": [],
   "source": [
    "def saudacao():\n",
    "    nome = input('Qual é o seu nome?')\n",
    "    print(f'Olá {nome}')"
   ]
  },
  {
   "cell_type": "code",
   "execution_count": 16,
   "id": "4831cf19-f06f-4c9c-ab00-b013e0f94e5d",
   "metadata": {},
   "outputs": [
    {
     "name": "stdin",
     "output_type": "stream",
     "text": [
      "Qual é o seu nome? Lucas\n"
     ]
    },
    {
     "name": "stdout",
     "output_type": "stream",
     "text": [
      "Olá Lucas\n"
     ]
    }
   ],
   "source": [
    "saudacao()"
   ]
  },
  {
   "cell_type": "code",
   "execution_count": 17,
   "id": "3986feb1-050f-41e4-9a3a-5c02d4307a4f",
   "metadata": {},
   "outputs": [
    {
     "name": "stdin",
     "output_type": "stream",
     "text": [
      "Qual seu primeiro nome?  lucas\n",
      "Qual seu sobrenome?  santana\n"
     ]
    },
    {
     "name": "stdout",
     "output_type": "stream",
     "text": [
      "lucas santana\n"
     ]
    }
   ],
   "source": [
    "def nome_completo():\n",
    " primeiro_nome = input('Qual seu primeiro nome? ')\n",
    " sobrenome = input('Qual seu sobrenome? ')\n",
    " nome_inteiro = primeiro_nome + ' ' + sobrenome\n",
    " print(nome_inteiro)\n",
    "\n",
    "nome_completo()"
   ]
  },
  {
   "cell_type": "markdown",
   "id": "3420649c-70f5-49a4-a143-1e252abe1fe4",
   "metadata": {
    "jp-MarkdownHeadingCollapsed": true,
    "tags": []
   },
   "source": [
    "# parametros"
   ]
  },
  {
   "cell_type": "code",
   "execution_count": 22,
   "id": "0ef4a7e3-f457-4eaf-9096-71ec02970e21",
   "metadata": {},
   "outputs": [],
   "source": [
    "nome ='João'"
   ]
  },
  {
   "cell_type": "code",
   "execution_count": 23,
   "id": "bea069ba-00c1-41ca-9644-37183ba09f9f",
   "metadata": {},
   "outputs": [
    {
     "name": "stdout",
     "output_type": "stream",
     "text": [
      "Olá João\n"
     ]
    }
   ],
   "source": [
    "def saudacao_com_parametros(nome_da_pessoa):\n",
    "    print(f'Olá {nome_da_pessoa}') \n",
    "saudacao_com_parametros(nome)\n",
    "          "
   ]
  },
  {
   "cell_type": "markdown",
   "id": "675dd99b-c71c-4872-a94f-6d8ca8301330",
   "metadata": {
    "jp-MarkdownHeadingCollapsed": true,
    "tags": []
   },
   "source": [
    "# condicional"
   ]
  },
  {
   "cell_type": "code",
   "execution_count": 40,
   "id": "6cb53cd9-c304-4c5b-a7dd-2aab6a71377f",
   "metadata": {},
   "outputs": [
    {
     "name": "stdout",
     "output_type": "stream",
     "text": [
      " não Tem permissão para dirigir\n"
     ]
    }
   ],
   "source": [
    "idade = 20\n",
    "def verifica_se_pode_dirigir(idade):\n",
    "    if idade>=18:\n",
    "        print('Tem permissão para dirigir')\n",
    "    else: \n",
    "        print (' não Tem permissão para dirigir')\n",
    "verifica_se_pode_dirigir(idade)"
   ]
  },
  {
   "cell_type": "markdown",
   "id": "07bd5feb-dbdb-4ac7-a48d-5f6e149e085f",
   "metadata": {
    "tags": []
   },
   "source": [
    "# Convertendo tipo para inteiro"
   ]
  },
  {
   "cell_type": "code",
   "execution_count": 50,
   "id": "787f35f9-55f3-4c07-a6f5-7b56923f61d1",
   "metadata": {},
   "outputs": [
    {
     "name": "stdin",
     "output_type": "stream",
     "text": [
      "digite a sua idade 13\n"
     ]
    },
    {
     "name": "stdout",
     "output_type": "stream",
     "text": [
      " não Tem permissão para dirigir\n"
     ]
    }
   ],
   "source": [
    "def verifica_se_pode_dirigir_sem_parametros():\n",
    "    idade = input('digite a sua idade')\n",
    "    idade = int(idade)\n",
    "    if idade >= 18:\n",
    "        print('Tem permissão para dirigir')\n",
    "    else: \n",
    "        print (' não Tem permissão para dirigir')\n",
    "verifica_se_pode_dirigir_sem_parametros()"
   ]
  },
  {
   "cell_type": "markdown",
   "id": "737c1c7a-ae74-46c6-a2d5-9c04475251f7",
   "metadata": {
    "jp-MarkdownHeadingCollapsed": true,
    "tags": []
   },
   "source": [
    "# Lista\n",
    "\n"
   ]
  },
  {
   "cell_type": "code",
   "execution_count": 51,
   "id": "ed664245-27ca-484e-9de4-146782740d14",
   "metadata": {},
   "outputs": [
    {
     "data": {
      "text/plain": [
       "str"
      ]
     },
     "execution_count": 51,
     "metadata": {},
     "output_type": "execute_result"
    }
   ],
   "source": [
    "nome= 'lucas'\n",
    "type(nome)"
   ]
  },
  {
   "cell_type": "code",
   "execution_count": 53,
   "id": "9e6ae008-6cfc-4d47-9ff7-64d7b4362ffe",
   "metadata": {},
   "outputs": [
    {
     "data": {
      "text/plain": [
       "list"
      ]
     },
     "execution_count": 53,
     "metadata": {},
     "output_type": "execute_result"
    }
   ],
   "source": [
    "idades = [18,22,15,50]\n",
    "type(idades)"
   ]
  },
  {
   "cell_type": "code",
   "execution_count": null,
   "id": "bbfad9a7-69b7-410e-b33c-b36e5e22c2cc",
   "metadata": {},
   "outputs": [],
   "source": [
    "idades = [18,22,15,50]\n",
    "#          0  1  2  3"
   ]
  },
  {
   "cell_type": "code",
   "execution_count": 56,
   "id": "961a619a-9c4a-41d5-a34b-2f4b5cbc8720",
   "metadata": {},
   "outputs": [
    {
     "data": {
      "text/plain": [
       "[18, 22, 15]"
      ]
     },
     "execution_count": 56,
     "metadata": {},
     "output_type": "execute_result"
    }
   ],
   "source": [
    "idades[0:3]"
   ]
  },
  {
   "cell_type": "code",
   "execution_count": 67,
   "id": "40b70c5b-d513-45dd-971f-379e58541d6b",
   "metadata": {},
   "outputs": [
    {
     "data": {
      "text/plain": [
       "[22, 15, 50]"
      ]
     },
     "execution_count": 67,
     "metadata": {},
     "output_type": "execute_result"
    }
   ],
   "source": [
    "idades[1:]"
   ]
  },
  {
   "cell_type": "code",
   "execution_count": 68,
   "id": "3da902fa-a3f0-4d94-abff-ad5267a13eba",
   "metadata": {},
   "outputs": [
    {
     "data": {
      "text/plain": [
       "50"
      ]
     },
     "execution_count": 68,
     "metadata": {},
     "output_type": "execute_result"
    }
   ],
   "source": [
    "idades[-1]"
   ]
  },
  {
   "cell_type": "code",
   "execution_count": 69,
   "id": "0b174930-63df-4ed5-ad18-87f89cca4a4f",
   "metadata": {},
   "outputs": [
    {
     "data": {
      "text/plain": [
       "15"
      ]
     },
     "execution_count": 69,
     "metadata": {},
     "output_type": "execute_result"
    }
   ],
   "source": [
    "idades[-2]"
   ]
  },
  {
   "cell_type": "markdown",
   "id": "72185133-df0a-4c33-b1a4-a7dac3c77239",
   "metadata": {
    "jp-MarkdownHeadingCollapsed": true,
    "tags": []
   },
   "source": [
    "# laços e loopings\n"
   ]
  },
  {
   "cell_type": "code",
   "execution_count": 70,
   "id": "d94d8b42-44eb-4949-ae88-00259ca4dfed",
   "metadata": {},
   "outputs": [
    {
     "data": {
      "text/plain": [
       "[18, 22, 15, 50]"
      ]
     },
     "execution_count": 70,
     "metadata": {},
     "output_type": "execute_result"
    }
   ],
   "source": [
    "idades"
   ]
  },
  {
   "cell_type": "code",
   "execution_count": 74,
   "id": "6b92be32-b98e-42f9-968d-7af44ec6b427",
   "metadata": {},
   "outputs": [
    {
     "name": "stdout",
     "output_type": "stream",
     "text": [
      "18 anos de idade, Tem permissão para dirigir\n",
      "22 anos de idade, Tem permissão para dirigir\n",
      "15 anos de idade, não Tem permissão para dirigir\n",
      "50 anos de idade, Tem permissão para dirigir\n"
     ]
    }
   ],
   "source": [
    "#for fora da função\n",
    "def verifica_se_pode_dirigir(idade):\n",
    "    if idade>=18:\n",
    "        print(f'{idade} anos de idade, Tem permissão para dirigir')\n",
    "    else: \n",
    "        print (f'{idade} anos de idade, não Tem permissão para dirigir')\n",
    "for idade in idades:\n",
    "    verifica_se_pode_dirigir(idade)"
   ]
  },
  {
   "cell_type": "code",
   "execution_count": 75,
   "id": "449de44a-8707-4da6-aaa7-61f797d4e69d",
   "metadata": {},
   "outputs": [
    {
     "name": "stdout",
     "output_type": "stream",
     "text": [
      "18 anos de idade, Tem permissão para dirigir\n",
      "22 anos de idade, Tem permissão para dirigir\n",
      "15 anos de idade, não Tem permissão para dirigir\n",
      "50 anos de idade, Tem permissão para dirigir\n"
     ]
    }
   ],
   "source": [
    "def verifica_se_pode_dirigir(idades):\n",
    "    for idade in idades:\n",
    "        if idade >=18:\n",
    "            print(f'{idade} anos de idade, Tem permissão para dirigir')\n",
    "        else: \n",
    "            print (f'{idade} anos de idade, não Tem permissão para dirigir')\n",
    "verifica_se_pode_dirigir(idades)\n",
    "    "
   ]
  },
  {
   "cell_type": "markdown",
   "id": "28ae246f-03f1-4613-a5b5-95e4f4e2fefc",
   "metadata": {
    "jp-MarkdownHeadingCollapsed": true,
    "tags": []
   },
   "source": [
    "# boleano\n"
   ]
  },
  {
   "cell_type": "code",
   "execution_count": 77,
   "id": "004ee0fc-75d0-4be6-a1ec-f77be0d5c263",
   "metadata": {},
   "outputs": [
    {
     "data": {
      "text/plain": [
       "True"
      ]
     },
     "execution_count": 77,
     "metadata": {},
     "output_type": "execute_result"
    }
   ],
   "source": [
    "idade = 18\n",
    "idade >=18"
   ]
  },
  {
   "cell_type": "code",
   "execution_count": 78,
   "id": "c7e63a87-4480-4afd-ae23-27cc6c109b4c",
   "metadata": {},
   "outputs": [
    {
     "data": {
      "text/plain": [
       "False"
      ]
     },
     "execution_count": 78,
     "metadata": {},
     "output_type": "execute_result"
    }
   ],
   "source": [
    "idade = 16\n",
    "idade >=18"
   ]
  },
  {
   "cell_type": "code",
   "execution_count": 94,
   "id": "b70f0931-c808-459c-ac56-053ab68fb311",
   "metadata": {},
   "outputs": [],
   "source": [
    "permi = []\n",
    "idades = [20,14,40]\n",
    "\n",
    "def verifica_se_pode_dirigir(idades, permi):\n",
    "    for idade in idades:\n",
    "        if idade >= 18:\n",
    "            permi.append(True)\n",
    "        else:\n",
    "            permi.append(False)\n",
    "            \n",
    "verifica_se_pode_dirigir(idades,permi)\n"
   ]
  },
  {
   "cell_type": "code",
   "execution_count": 95,
   "id": "e78d9787-17bc-42ed-8181-7711072c8fad",
   "metadata": {},
   "outputs": [
    {
     "data": {
      "text/plain": [
       "[True, False, True]"
      ]
     },
     "execution_count": 95,
     "metadata": {},
     "output_type": "execute_result"
    }
   ],
   "source": [
    "permi"
   ]
  },
  {
   "cell_type": "code",
   "execution_count": 97,
   "id": "ed6e3ec9-8bcc-4f4c-9bff-1ecbf9b29337",
   "metadata": {},
   "outputs": [
    {
     "name": "stdout",
     "output_type": "stream",
     "text": [
      "tem permissão para dirigir\n",
      "Não tem permissão para dirigir\n",
      "tem permissão para dirigir\n"
     ]
    }
   ],
   "source": [
    "for permissao in permi:\n",
    "    if permissao == True:\n",
    "        print('tem permissão para dirigir')\n",
    "    else:\n",
    "        print('Não tem permissão para dirigir')"
   ]
  },
  {
   "cell_type": "markdown",
   "id": "c83d37fc-b991-4f11-8a4f-9d9e78231f67",
   "metadata": {
    "jp-MarkdownHeadingCollapsed": true,
    "tags": []
   },
   "source": [
    "# tipos em uma lista"
   ]
  },
  {
   "cell_type": "code",
   "execution_count": 13,
   "id": "c12d6f94-200e-4ca9-91d0-bad59cc14548",
   "metadata": {},
   "outputs": [
    {
     "name": "stdout",
     "output_type": "stream",
     "text": [
      "O elemento Lucas é do tipo:  <class 'str'>\n",
      "O elemento 20 é do tipo:  <class 'int'>\n",
      "O elemento True é do tipo:  <class 'bool'>\n",
      "O elemento 11 é do tipo:  <class 'str'>\n"
     ]
    }
   ],
   "source": [
    "lista =['Lucas',20,True,'11']\n",
    "for i in lista:\n",
    "    print(f'O elemento {i} é do tipo: ',type(i))"
   ]
  },
  {
   "cell_type": "markdown",
   "id": "d881987d-0107-455d-8c63-ffad8c6fa3fb",
   "metadata": {
    "jp-MarkdownHeadingCollapsed": true,
    "tags": []
   },
   "source": [
    "# imports"
   ]
  },
  {
   "cell_type": "code",
   "execution_count": 37,
   "id": "d9e47a5c-877b-4bde-900e-0e98d71609f4",
   "metadata": {},
   "outputs": [],
   "source": [
    "from random import randrange,seed"
   ]
  },
  {
   "cell_type": "code",
   "execution_count": 71,
   "id": "4bf9077a-c5c1-4f2d-bb4b-168cf14352ab",
   "metadata": {},
   "outputs": [],
   "source": [
    "seed(11)"
   ]
  },
  {
   "cell_type": "code",
   "execution_count": 72,
   "id": "47d2159c-f66e-4a60-9c3d-86a97a1a0fe0",
   "metadata": {},
   "outputs": [
    {
     "data": {
      "text/plain": [
       "7"
      ]
     },
     "execution_count": 72,
     "metadata": {},
     "output_type": "execute_result"
    }
   ],
   "source": [
    "randrange(0,11)"
   ]
  },
  {
   "cell_type": "code",
   "execution_count": 73,
   "id": "c2258569-ffb7-4b18-8c31-7e38ea81a915",
   "metadata": {},
   "outputs": [],
   "source": [
    "notas_matematica = []\n",
    "for notas in range(8):\n",
    "    notas_matematica.append(randrange(0,11))   \n",
    "notas_matematica\n",
    "notas_matematica[-2] = 1"
   ]
  },
  {
   "cell_type": "code",
   "execution_count": 74,
   "id": "4671a792-305e-4c5e-b0b2-7ff27e336dce",
   "metadata": {},
   "outputs": [
    {
     "data": {
      "text/plain": [
       "8"
      ]
     },
     "execution_count": 74,
     "metadata": {},
     "output_type": "execute_result"
    }
   ],
   "source": [
    "len(notas_matematica)"
   ]
  },
  {
   "cell_type": "markdown",
   "id": "a29ea0f2-a78b-45fa-829a-e7729ad82eb7",
   "metadata": {
    "tags": []
   },
   "source": [
    "# Matplotlib\n"
   ]
  },
  {
   "cell_type": "code",
   "execution_count": 47,
   "id": "04dc5c60-880a-47e5-8253-d20611c826b4",
   "metadata": {},
   "outputs": [],
   "source": [
    "import matplotlib.pyplot as plt"
   ]
  },
  {
   "cell_type": "code",
   "execution_count": 75,
   "id": "eb42495b-a01a-4a5e-8666-ebcc005075f6",
   "metadata": {},
   "outputs": [
    {
     "data": {
      "image/png": "[encoded data removed]",
      "text/plain": [
       "<Figure size 432x288 with 1 Axes>"
      ]
     },
     "metadata": {
      "needs_background": "light"
     },
     "output_type": "display_data"
    }
   ],
   "source": [
    "x= list(range(1,9))\n",
    "y= notas_matematica\n",
    "plt.plot(x,y,marker= 'o')\n",
    "plt.title('Notas de matemática')\n",
    "plt.xlabel('Provas')\n",
    "plt.ylabel('Notas')\n",
    "plt.show()"
   ]
  },
  {
   "cell_type": "code",
   "execution_count": 79,
   "id": "4b81989a-187b-486c-bfe9-f0b2bd88e15b",
   "metadata": {},
   "outputs": [],
   "source": [
    "import matplotlib.pyplot as plt\n",
    "\n",
    "notas_matematica = ['Matemática',8,7,6,6,7,7,8,10]\n",
    "notas_portugues = ['Português',9,9,9,8,5,6,8,5]\n",
    "notas_geografia = ['Geografia',10,10,6,7,7,7,8,7]\n",
    "\n",
    "notas = [notas_matematica, notas_portugues, notas_geografia]"
   ]
  },
  {
   "cell_type": "code",
   "execution_count": 84,
   "id": "01fc5ea5-a556-4f0a-ae37-ad0d3cd03364",
   "metadata": {},
   "outputs": [
    {
     "data": {
      "image/png": "[encoded data removed]",
      "text/plain": [
       "<Figure size 432x288 with 1 Axes>"
      ]
     },
     "metadata": {
      "needs_background": "light"
     },
     "output_type": "display_data"
    },
    {
     "data": {
      "image/png": "[encoded data removed]",
      "text/plain": [
       "<Figure size 432x288 with 1 Axes>"
      ]
     },
     "metadata": {
      "needs_background": "light"
     },
     "output_type": "display_data"
    },
    {
     "data": {
      "image/png": "[encoded data removed]",
      "text/plain": [
       "<Figure size 432x288 with 1 Axes>"
      ]
     },
     "metadata": {
      "needs_background": "light"
     },
     "output_type": "display_data"
    }
   ],
   "source": [
    "for nota in notas:\n",
    "    x= list(range(1,9))\n",
    "    y= nota[1:]\n",
    "    plt.plot(x,y,marker= 'o')\n",
    "    plt.xlabel('Provas')\n",
    "    plt.ylabel('Notas')\n",
    "    plt.title(nota[0])\n",
    "    plt.show()\n"
   ]
  },
  {
   "cell_type": "code",
   "execution_count": 87,
   "id": "d6630328-a370-4b7c-83d8-4be54bf6eb73",
   "metadata": {},
   "outputs": [
    {
     "data": {
      "text/plain": [
       "7"
      ]
     },
     "execution_count": 87,
     "metadata": {},
     "output_type": "execute_result"
    }
   ],
   "source": [
    "1+6"
   ]
  }
 ],
 "metadata": {
  "kernelspec": {
   "display_name": "Python 3 (ipykernel)",
   "language": "python",
   "name": "python3"
  },
  "language_info": {
   "codemirror_mode": {
    "name": "ipython",
    "version": 3
   },
   "file_extension": ".py",
   "mimetype": "text/x-python",
   "name": "python",
   "nbconvert_exporter": "python",
   "pygments_lexer": "ipython3",
   "version": "3.9.12"
  }
 },
 "nbformat": 4,
 "nbformat_minor": 5
}
